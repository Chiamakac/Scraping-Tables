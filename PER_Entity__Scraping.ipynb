{
  "nbformat": 4,
  "nbformat_minor": 0,
  "metadata": {
    "colab": {
      "provenance": [],
      "include_colab_link": true
    },
    "kernelspec": {
      "name": "python3",
      "display_name": "Python 3"
    },
    "language_info": {
      "name": "python"
    }
  },
  "cells": [
    {
      "cell_type": "markdown",
      "metadata": {
        "id": "view-in-github",
        "colab_type": "text"
      },
      "source": [
        "<a href=\"https://colab.research.google.com/github/Chiamakac/Scraping-Tables/blob/main/PER_Entity__Scraping.ipynb\" target=\"_parent\"><img src=\"https://colab.research.google.com/assets/colab-badge.svg\" alt=\"Open In Colab\"/></a>"
      ]
    },
    {
      "cell_type": "code",
      "metadata": {
        "id": "BhzmLZ5nQi35"
      },
      "source": [
        "# Import the pandas library for data manipulation and analysis\n",
        "import pandas as pd"
      ],
      "execution_count": null,
      "outputs": []
    },
    {
      "cell_type": "code",
      "metadata": {
        "id": "Rjqh3SAaQtUk"
      },
      "source": [
        "# Read all HTML tables from the specified URL and store them in a list of DataFrames\n",
        "df = pd.read_html('https://okwuid.com/2018/04/29/igbo-surnames-and-meanings/')"
      ],
      "execution_count": null,
      "outputs": []
    },
    {
      "cell_type": "code",
      "metadata": {
        "colab": {
          "base_uri": "https://localhost:8080/"
        },
        "id": "-5s4QReITJPE",
        "outputId": "e82b3aee-3c9c-435f-a97e-54a2ddbc60a2"
      },
      "source": [
        "# Display the contents of the DataFrame 'df'\n",
        "print(df)"
      ],
      "execution_count": null,
      "outputs": [
        {
          "output_type": "stream",
          "name": "stdout",
          "text": [
            "[                      0                            1  \\\n",
            "0                  NAME                    BREAKDOWN   \n",
            "1             Abamutele                          NaN   \n",
            "2         Abara/ Agbara                       Spirit   \n",
            "3                Achebe  An abbreviation of Anichebe   \n",
            "4              Achilonu                          NaN   \n",
            "..                  ...                          ...   \n",
            "300              Unigwe             Uno (Ulo) + Igbo   \n",
            "301             Uzoechi                          NaN   \n",
            "302           Uzoechina                          NaN   \n",
            "303  Uzoegbu/Uzoebgulam             Uzo + egbu + (m)   \n",
            "304           Wabaranta            Nwa + abara + nta   \n",
            "\n",
            "                                             2  \n",
            "0                                      MEANING  \n",
            "1                                          NaN  \n",
            "2                                          NaN  \n",
            "3          May Ani (the earth goddess protect)  \n",
            "4                                          NaN  \n",
            "..                                         ...  \n",
            "300  Heaven (House of the sky) [Northern Igbo]  \n",
            "301                                        NaN  \n",
            "302                                        NaN  \n",
            "303                  The road till not kill me  \n",
            "304                        Child of the spirit  \n",
            "\n",
            "[305 rows x 3 columns]]\n"
          ]
        }
      ]
    },
    {
      "cell_type": "code",
      "metadata": {
        "id": "8d8CwfQ0TMlp"
      },
      "source": [
        "# Save the first DataFrame in the list 'df' to a CSV file named 'Surnames.csv'\n",
        "df[0].to_csv('Surnames.csv')"
      ],
      "execution_count": null,
      "outputs": []
    },
    {
      "cell_type": "code",
      "metadata": {
        "id": "URvBSUBDbL0h"
      },
      "source": [
        "# Read the CSV file 'Surnames.csv' into a DataFrame named 'df'\n",
        "df = pd.read_csv('/content/Surnames.csv')"
      ],
      "execution_count": null,
      "outputs": []
    },
    {
      "cell_type": "code",
      "metadata": {
        "id": "EqbZplmjZ8Pz"
      },
      "source": [
        "# Display a summary of the DataFrame 'df'\n",
        "# df.info()"
      ],
      "execution_count": null,
      "outputs": []
    },
    {
      "cell_type": "code",
      "metadata": {
        "id": "amlSfqT6bbg7"
      },
      "source": [
        "# Remove the specified columns ('Unnamed: 0', '1', '2') from the DataFrame 'df'\n",
        "df.drop(['Unnamed: 0', '1', '2'], axis=1, inplace=True)"
      ],
      "execution_count": null,
      "outputs": []
    },
    {
      "cell_type": "code",
      "metadata": {
        "colab": {
          "base_uri": "https://localhost:8080/",
          "height": 206
        },
        "id": "34uipYG2cIqU",
        "outputId": "003a5cb2-19c2-4be9-dc78-64e83d33d15d"
      },
      "source": [
        "# Display the first five rows of the DataFrame 'df' to get a quick overview of its contents\n",
        "df.head()"
      ],
      "execution_count": null,
      "outputs": [
        {
          "output_type": "execute_result",
          "data": {
            "text/plain": [
              "               0\n",
              "0           NAME\n",
              "1      Abamutele\n",
              "2  Abara/ Agbara\n",
              "3         Achebe\n",
              "4       Achilonu"
            ],
            "text/html": [
              "\n",
              "  <div id=\"df-800358d7-147c-48e1-80a5-37ab6ab88e47\" class=\"colab-df-container\">\n",
              "    <div>\n",
              "<style scoped>\n",
              "    .dataframe tbody tr th:only-of-type {\n",
              "        vertical-align: middle;\n",
              "    }\n",
              "\n",
              "    .dataframe tbody tr th {\n",
              "        vertical-align: top;\n",
              "    }\n",
              "\n",
              "    .dataframe thead th {\n",
              "        text-align: right;\n",
              "    }\n",
              "</style>\n",
              "<table border=\"1\" class=\"dataframe\">\n",
              "  <thead>\n",
              "    <tr style=\"text-align: right;\">\n",
              "      <th></th>\n",
              "      <th>0</th>\n",
              "    </tr>\n",
              "  </thead>\n",
              "  <tbody>\n",
              "    <tr>\n",
              "      <th>0</th>\n",
              "      <td>NAME</td>\n",
              "    </tr>\n",
              "    <tr>\n",
              "      <th>1</th>\n",
              "      <td>Abamutele</td>\n",
              "    </tr>\n",
              "    <tr>\n",
              "      <th>2</th>\n",
              "      <td>Abara/ Agbara</td>\n",
              "    </tr>\n",
              "    <tr>\n",
              "      <th>3</th>\n",
              "      <td>Achebe</td>\n",
              "    </tr>\n",
              "    <tr>\n",
              "      <th>4</th>\n",
              "      <td>Achilonu</td>\n",
              "    </tr>\n",
              "  </tbody>\n",
              "</table>\n",
              "</div>\n",
              "    <div class=\"colab-df-buttons\">\n",
              "\n",
              "  <div class=\"colab-df-container\">\n",
              "    <button class=\"colab-df-convert\" onclick=\"convertToInteractive('df-800358d7-147c-48e1-80a5-37ab6ab88e47')\"\n",
              "            title=\"Convert this dataframe to an interactive table.\"\n",
              "            style=\"display:none;\">\n",
              "\n",
              "  <svg xmlns=\"http://www.w3.org/2000/svg\" height=\"24px\" viewBox=\"0 -960 960 960\">\n",
              "    <path d=\"M120-120v-720h720v720H120Zm60-500h600v-160H180v160Zm220 220h160v-160H400v160Zm0 220h160v-160H400v160ZM180-400h160v-160H180v160Zm440 0h160v-160H620v160ZM180-180h160v-160H180v160Zm440 0h160v-160H620v160Z\"/>\n",
              "  </svg>\n",
              "    </button>\n",
              "\n",
              "  <style>\n",
              "    .colab-df-container {\n",
              "      display:flex;\n",
              "      gap: 12px;\n",
              "    }\n",
              "\n",
              "    .colab-df-convert {\n",
              "      background-color: #E8F0FE;\n",
              "      border: none;\n",
              "      border-radius: 50%;\n",
              "      cursor: pointer;\n",
              "      display: none;\n",
              "      fill: #1967D2;\n",
              "      height: 32px;\n",
              "      padding: 0 0 0 0;\n",
              "      width: 32px;\n",
              "    }\n",
              "\n",
              "    .colab-df-convert:hover {\n",
              "      background-color: #E2EBFA;\n",
              "      box-shadow: 0px 1px 2px rgba(60, 64, 67, 0.3), 0px 1px 3px 1px rgba(60, 64, 67, 0.15);\n",
              "      fill: #174EA6;\n",
              "    }\n",
              "\n",
              "    .colab-df-buttons div {\n",
              "      margin-bottom: 4px;\n",
              "    }\n",
              "\n",
              "    [theme=dark] .colab-df-convert {\n",
              "      background-color: #3B4455;\n",
              "      fill: #D2E3FC;\n",
              "    }\n",
              "\n",
              "    [theme=dark] .colab-df-convert:hover {\n",
              "      background-color: #434B5C;\n",
              "      box-shadow: 0px 1px 3px 1px rgba(0, 0, 0, 0.15);\n",
              "      filter: drop-shadow(0px 1px 2px rgba(0, 0, 0, 0.3));\n",
              "      fill: #FFFFFF;\n",
              "    }\n",
              "  </style>\n",
              "\n",
              "    <script>\n",
              "      const buttonEl =\n",
              "        document.querySelector('#df-800358d7-147c-48e1-80a5-37ab6ab88e47 button.colab-df-convert');\n",
              "      buttonEl.style.display =\n",
              "        google.colab.kernel.accessAllowed ? 'block' : 'none';\n",
              "\n",
              "      async function convertToInteractive(key) {\n",
              "        const element = document.querySelector('#df-800358d7-147c-48e1-80a5-37ab6ab88e47');\n",
              "        const dataTable =\n",
              "          await google.colab.kernel.invokeFunction('convertToInteractive',\n",
              "                                                    [key], {});\n",
              "        if (!dataTable) return;\n",
              "\n",
              "        const docLinkHtml = 'Like what you see? Visit the ' +\n",
              "          '<a target=\"_blank\" href=https://colab.research.google.com/notebooks/data_table.ipynb>data table notebook</a>'\n",
              "          + ' to learn more about interactive tables.';\n",
              "        element.innerHTML = '';\n",
              "        dataTable['output_type'] = 'display_data';\n",
              "        await google.colab.output.renderOutput(dataTable, element);\n",
              "        const docLink = document.createElement('div');\n",
              "        docLink.innerHTML = docLinkHtml;\n",
              "        element.appendChild(docLink);\n",
              "      }\n",
              "    </script>\n",
              "  </div>\n",
              "\n",
              "\n",
              "<div id=\"df-998dcd89-dfa7-4b87-8b54-5b1253085e66\">\n",
              "  <button class=\"colab-df-quickchart\" onclick=\"quickchart('df-998dcd89-dfa7-4b87-8b54-5b1253085e66')\"\n",
              "            title=\"Suggest charts\"\n",
              "            style=\"display:none;\">\n",
              "\n",
              "<svg xmlns=\"http://www.w3.org/2000/svg\" height=\"24px\"viewBox=\"0 0 24 24\"\n",
              "     width=\"24px\">\n",
              "    <g>\n",
              "        <path d=\"M19 3H5c-1.1 0-2 .9-2 2v14c0 1.1.9 2 2 2h14c1.1 0 2-.9 2-2V5c0-1.1-.9-2-2-2zM9 17H7v-7h2v7zm4 0h-2V7h2v10zm4 0h-2v-4h2v4z\"/>\n",
              "    </g>\n",
              "</svg>\n",
              "  </button>\n",
              "\n",
              "<style>\n",
              "  .colab-df-quickchart {\n",
              "      --bg-color: #E8F0FE;\n",
              "      --fill-color: #1967D2;\n",
              "      --hover-bg-color: #E2EBFA;\n",
              "      --hover-fill-color: #174EA6;\n",
              "      --disabled-fill-color: #AAA;\n",
              "      --disabled-bg-color: #DDD;\n",
              "  }\n",
              "\n",
              "  [theme=dark] .colab-df-quickchart {\n",
              "      --bg-color: #3B4455;\n",
              "      --fill-color: #D2E3FC;\n",
              "      --hover-bg-color: #434B5C;\n",
              "      --hover-fill-color: #FFFFFF;\n",
              "      --disabled-bg-color: #3B4455;\n",
              "      --disabled-fill-color: #666;\n",
              "  }\n",
              "\n",
              "  .colab-df-quickchart {\n",
              "    background-color: var(--bg-color);\n",
              "    border: none;\n",
              "    border-radius: 50%;\n",
              "    cursor: pointer;\n",
              "    display: none;\n",
              "    fill: var(--fill-color);\n",
              "    height: 32px;\n",
              "    padding: 0;\n",
              "    width: 32px;\n",
              "  }\n",
              "\n",
              "  .colab-df-quickchart:hover {\n",
              "    background-color: var(--hover-bg-color);\n",
              "    box-shadow: 0 1px 2px rgba(60, 64, 67, 0.3), 0 1px 3px 1px rgba(60, 64, 67, 0.15);\n",
              "    fill: var(--button-hover-fill-color);\n",
              "  }\n",
              "\n",
              "  .colab-df-quickchart-complete:disabled,\n",
              "  .colab-df-quickchart-complete:disabled:hover {\n",
              "    background-color: var(--disabled-bg-color);\n",
              "    fill: var(--disabled-fill-color);\n",
              "    box-shadow: none;\n",
              "  }\n",
              "\n",
              "  .colab-df-spinner {\n",
              "    border: 2px solid var(--fill-color);\n",
              "    border-color: transparent;\n",
              "    border-bottom-color: var(--fill-color);\n",
              "    animation:\n",
              "      spin 1s steps(1) infinite;\n",
              "  }\n",
              "\n",
              "  @keyframes spin {\n",
              "    0% {\n",
              "      border-color: transparent;\n",
              "      border-bottom-color: var(--fill-color);\n",
              "      border-left-color: var(--fill-color);\n",
              "    }\n",
              "    20% {\n",
              "      border-color: transparent;\n",
              "      border-left-color: var(--fill-color);\n",
              "      border-top-color: var(--fill-color);\n",
              "    }\n",
              "    30% {\n",
              "      border-color: transparent;\n",
              "      border-left-color: var(--fill-color);\n",
              "      border-top-color: var(--fill-color);\n",
              "      border-right-color: var(--fill-color);\n",
              "    }\n",
              "    40% {\n",
              "      border-color: transparent;\n",
              "      border-right-color: var(--fill-color);\n",
              "      border-top-color: var(--fill-color);\n",
              "    }\n",
              "    60% {\n",
              "      border-color: transparent;\n",
              "      border-right-color: var(--fill-color);\n",
              "    }\n",
              "    80% {\n",
              "      border-color: transparent;\n",
              "      border-right-color: var(--fill-color);\n",
              "      border-bottom-color: var(--fill-color);\n",
              "    }\n",
              "    90% {\n",
              "      border-color: transparent;\n",
              "      border-bottom-color: var(--fill-color);\n",
              "    }\n",
              "  }\n",
              "</style>\n",
              "\n",
              "  <script>\n",
              "    async function quickchart(key) {\n",
              "      const quickchartButtonEl =\n",
              "        document.querySelector('#' + key + ' button');\n",
              "      quickchartButtonEl.disabled = true;  // To prevent multiple clicks.\n",
              "      quickchartButtonEl.classList.add('colab-df-spinner');\n",
              "      try {\n",
              "        const charts = await google.colab.kernel.invokeFunction(\n",
              "            'suggestCharts', [key], {});\n",
              "      } catch (error) {\n",
              "        console.error('Error during call to suggestCharts:', error);\n",
              "      }\n",
              "      quickchartButtonEl.classList.remove('colab-df-spinner');\n",
              "      quickchartButtonEl.classList.add('colab-df-quickchart-complete');\n",
              "    }\n",
              "    (() => {\n",
              "      let quickchartButtonEl =\n",
              "        document.querySelector('#df-998dcd89-dfa7-4b87-8b54-5b1253085e66 button');\n",
              "      quickchartButtonEl.style.display =\n",
              "        google.colab.kernel.accessAllowed ? 'block' : 'none';\n",
              "    })();\n",
              "  </script>\n",
              "</div>\n",
              "\n",
              "    </div>\n",
              "  </div>\n"
            ],
            "application/vnd.google.colaboratory.intrinsic+json": {
              "type": "dataframe",
              "variable_name": "df",
              "summary": "{\n  \"name\": \"df\",\n  \"rows\": 305,\n  \"fields\": [\n    {\n      \"column\": \"0\",\n      \"properties\": {\n        \"dtype\": \"string\",\n        \"num_unique_values\": 305,\n        \"samples\": [\n          \"Nwaigwe/Nwigwe\",\n          \"Mgbodile\",\n          \"Ezejiofor\"\n        ],\n        \"semantic_type\": \"\",\n        \"description\": \"\"\n      }\n    }\n  ]\n}"
            }
          },
          "metadata": {},
          "execution_count": 9
        }
      ]
    },
    {
      "cell_type": "code",
      "metadata": {
        "id": "D4Euv8TtcQLS"
      },
      "source": [
        "df.to_csv('/content/Surname2.csv')"
      ],
      "execution_count": null,
      "outputs": []
    },
    {
      "cell_type": "markdown",
      "source": [
        "### **Scraping more than 1 table**"
      ],
      "metadata": {
        "id": "fMdQhak7xj08"
      }
    },
    {
      "cell_type": "markdown",
      "source": [],
      "metadata": {
        "id": "900Hqv4VOW0l"
      }
    },
    {
      "cell_type": "code",
      "source": [
        "#Pandas has a function to read html. We give it a URL and it will go to the page and scrape it directly\n",
        "#this is used to find table data(<table>,<tr>,<td>, the html tags) in that URL and returns a list\n",
        "\n",
        "df = pd.read_html('https://en.wikipedia.org/wiki/List_of_villages_in_Enugu_State')"
      ],
      "metadata": {
        "id": "v89QfhDkW7v2"
      },
      "execution_count": null,
      "outputs": []
    },
    {
      "cell_type": "code",
      "source": [
        "#returns a list of tables found on the page\n",
        "print(df)"
      ],
      "metadata": {
        "colab": {
          "base_uri": "https://localhost:8080/"
        },
        "id": "D4QVTvRHXAiP",
        "outputId": "8e8191e2-9c6b-4a3a-ca8c-58247ae8be89"
      },
      "execution_count": null,
      "outputs": [
        {
          "output_type": "stream",
          "name": "stdout",
          "text": [
            "[                                 Politics of Nigeria\n",
            "0                          Constitution Human rights\n",
            "1  Government President (list) Bola Tinubu Vice P...\n",
            "2  Legislature National Assembly of Nigeria Senat...\n",
            "3                            Judiciary Supreme Court\n",
            "4  Subdivisions States State governors Local Gove...\n",
            "5  Elections Recent elections Parliamentary:20152...\n",
            "6  Foreign relations Ministry of Foreign Affairs ...\n",
            "7                     Nigeria portal Other countries\n",
            "8                                                vte,            LGA District / Area  Postal code  \\\n",
            "0       Aninri             Mpu       402142   \n",
            "1       Aninri         Ndeaboh       402141   \n",
            "2       Aninri           Nenwe       402140   \n",
            "3       Aninri           Odume       402144   \n",
            "4       Aninri         Okpanku       402143   \n",
            "..         ...             ...          ...   \n",
            "162  Uzo-Uwani            Ojor       411118   \n",
            "163  Uzo-Uwani          Ugbene       411123   \n",
            "164  Uzo-Uwani          Ukpata       411114   \n",
            "165  Uzo-Uwani        Umulokpa       411111   \n",
            "166  Uzo-Uwani           Uvuru       411121   \n",
            "\n",
            "                                              Villages  \n",
            "0    Agu-Enyi; Ezza-Mpu (Obunagu); Amachara; Amagu;...  \n",
            "1    Abacheku; Amaeze; Amurure; Azunkwo; Nochele; O...  \n",
            "2    Agbada; Amabor; Amagu; Amokwe; Amorji; Emulemo...  \n",
            "3    Amachara-Uka; Amaeke; Amagu; Amankanu; Amanasa...  \n",
            "4    Amabiriba; Amaete; Amagu; Amaogudu; Ihuezeoke;...  \n",
            "..                                                 ...  \n",
            "162  Umu-Ekeyi; Umu-Ogbochi; Umuame; Umuasaba; Umui...  \n",
            "163  Afokuje; Ama-Ikwu; Ama-Ogidi; Amaiseke; Asnien...  \n",
            "164  Achalla Oda; Amufi; Ugwudimu; Umudi-Ugwu; Umud...  \n",
            "165  Akiyi; Akwunitor; Amagu; Amofu; Amulu; Enugu-U...  \n",
            "166  Amono-Utokpu; Inama; Ogwu-Umudia; Okasibi; Ugb...  \n",
            "\n",
            "[167 rows x 4 columns],            LGA       Ward                                  Polling Unit Name\n",
            "0       Aninri    Oduma I  Comm. Sch. Oduma Achara; Amaeze Enugu Agu Vill...\n",
            "1       Aninri   Oduma II  Comm. School Obeagu Oduma; Liberty School, Obe...\n",
            "2       Aninri  Oduma III  Amacharauka Village Square; Amohite Village Sq...\n",
            "3       Aninri   Oduma IV  Community School Oduma I; Afor Market Square I...\n",
            "4       Aninri   Nnenwe I  Umulagu Comm. School I; Umudibo Comm. School I...\n",
            "..         ...        ...                                                ...\n",
            "247  Uzo-Uwani   Nimbo II  Onu Ofu Ebor Square; Community Primary School ...\n",
            "248  Uzo-Uwani   Ugbene I  Isiama Village Square; Uwenu Onyisi Square; Am...\n",
            "249  Uzo-Uwani  Ugbene II  Ashenyi Village Square; Enugu-Ada Village Squa...\n",
            "250  Uzo-Uwani      Nrobo  Central School Nrobo I; Community Primary Scho...\n",
            "251  Uzo-Uwani   Nkpologu  H. T. P. S. Nkpologu I; Community Primary Scho...\n",
            "\n",
            "[252 rows x 3 columns],             vteLists of villages in Nigeria by state  \\\n",
            "0  Abia Adamawa Akwa Ibom Anambra Bauchi Bayelsa ...   \n",
            "1                                     Nigeria portal   \n",
            "\n",
            "          vteLists of villages in Nigeria by state.1  \n",
            "0  Abia Adamawa Akwa Ibom Anambra Bauchi Bayelsa ...  \n",
            "1                                     Nigeria portal  ,           vte Enugu State                                  vte Enugu State.1  \\\n",
            "0    State capital: Enugu                               State capital: Enugu   \n",
            "1  Local government areas  Aninri Awgu Enugu East Enugu North Enugu South...   \n",
            "\n",
            "      vte Enugu State.2  \n",
            "0  State capital: Enugu  \n",
            "1                   NaN  ]\n"
          ]
        }
      ]
    },
    {
      "cell_type": "code",
      "source": [
        "#we index when we have more than one table on a page to choose the table we want. [0] is for the first table\n",
        "print(df[0])"
      ],
      "metadata": {
        "colab": {
          "base_uri": "https://localhost:8080/"
        },
        "id": "fiSDoe0jXEQ4",
        "outputId": "a403e84f-6721-49fc-f8e9-ddcca8cdc09b"
      },
      "execution_count": null,
      "outputs": [
        {
          "output_type": "stream",
          "name": "stdout",
          "text": [
            "                                 Politics of Nigeria\n",
            "0                          Constitution Human rights\n",
            "1  Government President (list) Bola Tinubu Vice P...\n",
            "2  Legislature National Assembly of Nigeria Senat...\n",
            "3                            Judiciary Supreme Court\n",
            "4  Subdivisions States State governors Local Gove...\n",
            "5  Elections Recent elections Parliamentary:20152...\n",
            "6  Foreign relations Ministry of Foreign Affairs ...\n",
            "7                     Nigeria portal Other countries\n",
            "8                                                vte\n"
          ]
        }
      ]
    },
    {
      "cell_type": "code",
      "source": [
        "print(df[1])"
      ],
      "metadata": {
        "colab": {
          "base_uri": "https://localhost:8080/"
        },
        "id": "w52EY5QgXE_u",
        "outputId": "9022a5e7-52ab-4a6e-8fe3-37fb0da92d47"
      },
      "execution_count": null,
      "outputs": [
        {
          "output_type": "stream",
          "name": "stdout",
          "text": [
            "           LGA District / Area  Postal code  \\\n",
            "0       Aninri             Mpu       402142   \n",
            "1       Aninri         Ndeaboh       402141   \n",
            "2       Aninri           Nenwe       402140   \n",
            "3       Aninri           Odume       402144   \n",
            "4       Aninri         Okpanku       402143   \n",
            "..         ...             ...          ...   \n",
            "162  Uzo-Uwani            Ojor       411118   \n",
            "163  Uzo-Uwani          Ugbene       411123   \n",
            "164  Uzo-Uwani          Ukpata       411114   \n",
            "165  Uzo-Uwani        Umulokpa       411111   \n",
            "166  Uzo-Uwani           Uvuru       411121   \n",
            "\n",
            "                                              Villages  \n",
            "0    Agu-Enyi; Ezza-Mpu (Obunagu); Amachara; Amagu;...  \n",
            "1    Abacheku; Amaeze; Amurure; Azunkwo; Nochele; O...  \n",
            "2    Agbada; Amabor; Amagu; Amokwe; Amorji; Emulemo...  \n",
            "3    Amachara-Uka; Amaeke; Amagu; Amankanu; Amanasa...  \n",
            "4    Amabiriba; Amaete; Amagu; Amaogudu; Ihuezeoke;...  \n",
            "..                                                 ...  \n",
            "162  Umu-Ekeyi; Umu-Ogbochi; Umuame; Umuasaba; Umui...  \n",
            "163  Afokuje; Ama-Ikwu; Ama-Ogidi; Amaiseke; Asnien...  \n",
            "164  Achalla Oda; Amufi; Ugwudimu; Umudi-Ugwu; Umud...  \n",
            "165  Akiyi; Akwunitor; Amagu; Amofu; Amulu; Enugu-U...  \n",
            "166  Amono-Utokpu; Inama; Ogwu-Umudia; Okasibi; Ugb...  \n",
            "\n",
            "[167 rows x 4 columns]\n"
          ]
        }
      ]
    },
    {
      "cell_type": "code",
      "source": [
        "print(df[2])"
      ],
      "metadata": {
        "colab": {
          "base_uri": "https://localhost:8080/"
        },
        "id": "kzXmIr5CXJaJ",
        "outputId": "2080f33d-8d9a-419e-fe79-59506a894e76"
      },
      "execution_count": null,
      "outputs": [
        {
          "output_type": "stream",
          "name": "stdout",
          "text": [
            "           LGA       Ward                                  Polling Unit Name\n",
            "0       Aninri    Oduma I  Comm. Sch. Oduma Achara; Amaeze Enugu Agu Vill...\n",
            "1       Aninri   Oduma II  Comm. School Obeagu Oduma; Liberty School, Obe...\n",
            "2       Aninri  Oduma III  Amacharauka Village Square; Amohite Village Sq...\n",
            "3       Aninri   Oduma IV  Community School Oduma I; Afor Market Square I...\n",
            "4       Aninri   Nnenwe I  Umulagu Comm. School I; Umudibo Comm. School I...\n",
            "..         ...        ...                                                ...\n",
            "247  Uzo-Uwani   Nimbo II  Onu Ofu Ebor Square; Community Primary School ...\n",
            "248  Uzo-Uwani   Ugbene I  Isiama Village Square; Uwenu Onyisi Square; Am...\n",
            "249  Uzo-Uwani  Ugbene II  Ashenyi Village Square; Enugu-Ada Village Squa...\n",
            "250  Uzo-Uwani      Nrobo  Central School Nrobo I; Community Primary Scho...\n",
            "251  Uzo-Uwani   Nkpologu  H. T. P. S. Nkpologu I; Community Primary Scho...\n",
            "\n",
            "[252 rows x 3 columns]\n"
          ]
        }
      ]
    },
    {
      "cell_type": "code",
      "source": [
        "print(df[3])"
      ],
      "metadata": {
        "colab": {
          "base_uri": "https://localhost:8080/"
        },
        "id": "4orvHBzXXMDX",
        "outputId": "2c936970-17ca-40c7-e006-97c49edbdc6e"
      },
      "execution_count": null,
      "outputs": [
        {
          "output_type": "stream",
          "name": "stdout",
          "text": [
            "            vteLists of villages in Nigeria by state  \\\n",
            "0  Abia Adamawa Akwa Ibom Anambra Bauchi Bayelsa ...   \n",
            "1                                     Nigeria portal   \n",
            "\n",
            "          vteLists of villages in Nigeria by state.1  \n",
            "0  Abia Adamawa Akwa Ibom Anambra Bauchi Bayelsa ...  \n",
            "1                                     Nigeria portal  \n"
          ]
        }
      ]
    },
    {
      "cell_type": "code",
      "source": [
        "print(df[4])"
      ],
      "metadata": {
        "colab": {
          "base_uri": "https://localhost:8080/"
        },
        "id": "Kg9nF-v7XMt_",
        "outputId": "249f334e-4f15-4292-d0d2-23dd986986d6"
      },
      "execution_count": null,
      "outputs": [
        {
          "output_type": "stream",
          "name": "stdout",
          "text": [
            "          vte Enugu State                                  vte Enugu State.1  \\\n",
            "0    State capital: Enugu                               State capital: Enugu   \n",
            "1  Local government areas  Aninri Awgu Enugu East Enugu North Enugu South...   \n",
            "\n",
            "      vte Enugu State.2  \n",
            "0  State capital: Enugu  \n",
            "1                   NaN  \n"
          ]
        }
      ]
    },
    {
      "cell_type": "code",
      "source": [
        "print(df[5])"
      ],
      "metadata": {
        "colab": {
          "base_uri": "https://localhost:8080/",
          "height": 146
        },
        "id": "XActH1HqXPSg",
        "outputId": "dd367060-c530-4de2-fa5e-66d39e5adcf4"
      },
      "execution_count": null,
      "outputs": [
        {
          "output_type": "error",
          "ename": "IndexError",
          "evalue": "list index out of range",
          "traceback": [
            "\u001b[0;31m---------------------------------------------------------------------------\u001b[0m",
            "\u001b[0;31mIndexError\u001b[0m                                Traceback (most recent call last)",
            "\u001b[0;32m<ipython-input-18-9ba6a70342ac>\u001b[0m in \u001b[0;36m<cell line: 1>\u001b[0;34m()\u001b[0m\n\u001b[0;32m----> 1\u001b[0;31m \u001b[0mprint\u001b[0m\u001b[0;34m(\u001b[0m\u001b[0mdf\u001b[0m\u001b[0;34m[\u001b[0m\u001b[0;36m5\u001b[0m\u001b[0;34m]\u001b[0m\u001b[0;34m)\u001b[0m\u001b[0;34m\u001b[0m\u001b[0;34m\u001b[0m\u001b[0m\n\u001b[0m",
            "\u001b[0;31mIndexError\u001b[0m: list index out of range"
          ]
        }
      ]
    },
    {
      "cell_type": "code",
      "source": [
        "#exports to csv\n",
        "df[1].to_csv('A.csv')\n",
        "df[2].to_csv('B.csv')\n"
      ],
      "metadata": {
        "id": "SxgHuT8mXSav"
      },
      "execution_count": null,
      "outputs": []
    },
    {
      "cell_type": "code",
      "source": [
        "#reads the csv file we want to select columns from\n",
        "df = pd.read_csv('/content/B.csv')\n"
      ],
      "metadata": {
        "id": "GiBKRrDyXVH9"
      },
      "execution_count": null,
      "outputs": []
    },
    {
      "cell_type": "code",
      "source": [
        "# Remove the 'Poling Unit Name' column from the DataFrame 'df'\n",
        "df.drop(['Ward'], axis=1, inplace=True)"
      ],
      "metadata": {
        "id": "dEbY6xXzXXQW"
      },
      "execution_count": null,
      "outputs": []
    },
    {
      "cell_type": "code",
      "source": [
        "#to display heading of each column\n",
        "df.head()"
      ],
      "metadata": {
        "colab": {
          "base_uri": "https://localhost:8080/",
          "height": 206
        },
        "id": "eqK1uqofXakM",
        "outputId": "237ee89f-b250-4651-f8ff-6426a4507b62"
      },
      "execution_count": null,
      "outputs": [
        {
          "output_type": "execute_result",
          "data": {
            "text/plain": [
              "   Unnamed: 0     LGA                                  Polling Unit Name\n",
              "0           0  Aninri  Comm. Sch. Oduma Achara; Amaeze Enugu Agu Vill...\n",
              "1           1  Aninri  Comm. School Obeagu Oduma; Liberty School, Obe...\n",
              "2           2  Aninri  Amacharauka Village Square; Amohite Village Sq...\n",
              "3           3  Aninri  Community School Oduma I; Afor Market Square I...\n",
              "4           4  Aninri  Umulagu Comm. School I; Umudibo Comm. School I..."
            ],
            "text/html": [
              "\n",
              "  <div id=\"df-72ba6bdb-97e3-418b-8928-582965a35480\" class=\"colab-df-container\">\n",
              "    <div>\n",
              "<style scoped>\n",
              "    .dataframe tbody tr th:only-of-type {\n",
              "        vertical-align: middle;\n",
              "    }\n",
              "\n",
              "    .dataframe tbody tr th {\n",
              "        vertical-align: top;\n",
              "    }\n",
              "\n",
              "    .dataframe thead th {\n",
              "        text-align: right;\n",
              "    }\n",
              "</style>\n",
              "<table border=\"1\" class=\"dataframe\">\n",
              "  <thead>\n",
              "    <tr style=\"text-align: right;\">\n",
              "      <th></th>\n",
              "      <th>Unnamed: 0</th>\n",
              "      <th>LGA</th>\n",
              "      <th>Polling Unit Name</th>\n",
              "    </tr>\n",
              "  </thead>\n",
              "  <tbody>\n",
              "    <tr>\n",
              "      <th>0</th>\n",
              "      <td>0</td>\n",
              "      <td>Aninri</td>\n",
              "      <td>Comm. Sch. Oduma Achara; Amaeze Enugu Agu Vill...</td>\n",
              "    </tr>\n",
              "    <tr>\n",
              "      <th>1</th>\n",
              "      <td>1</td>\n",
              "      <td>Aninri</td>\n",
              "      <td>Comm. School Obeagu Oduma; Liberty School, Obe...</td>\n",
              "    </tr>\n",
              "    <tr>\n",
              "      <th>2</th>\n",
              "      <td>2</td>\n",
              "      <td>Aninri</td>\n",
              "      <td>Amacharauka Village Square; Amohite Village Sq...</td>\n",
              "    </tr>\n",
              "    <tr>\n",
              "      <th>3</th>\n",
              "      <td>3</td>\n",
              "      <td>Aninri</td>\n",
              "      <td>Community School Oduma I; Afor Market Square I...</td>\n",
              "    </tr>\n",
              "    <tr>\n",
              "      <th>4</th>\n",
              "      <td>4</td>\n",
              "      <td>Aninri</td>\n",
              "      <td>Umulagu Comm. School I; Umudibo Comm. School I...</td>\n",
              "    </tr>\n",
              "  </tbody>\n",
              "</table>\n",
              "</div>\n",
              "    <div class=\"colab-df-buttons\">\n",
              "\n",
              "  <div class=\"colab-df-container\">\n",
              "    <button class=\"colab-df-convert\" onclick=\"convertToInteractive('df-72ba6bdb-97e3-418b-8928-582965a35480')\"\n",
              "            title=\"Convert this dataframe to an interactive table.\"\n",
              "            style=\"display:none;\">\n",
              "\n",
              "  <svg xmlns=\"http://www.w3.org/2000/svg\" height=\"24px\" viewBox=\"0 -960 960 960\">\n",
              "    <path d=\"M120-120v-720h720v720H120Zm60-500h600v-160H180v160Zm220 220h160v-160H400v160Zm0 220h160v-160H400v160ZM180-400h160v-160H180v160Zm440 0h160v-160H620v160ZM180-180h160v-160H180v160Zm440 0h160v-160H620v160Z\"/>\n",
              "  </svg>\n",
              "    </button>\n",
              "\n",
              "  <style>\n",
              "    .colab-df-container {\n",
              "      display:flex;\n",
              "      gap: 12px;\n",
              "    }\n",
              "\n",
              "    .colab-df-convert {\n",
              "      background-color: #E8F0FE;\n",
              "      border: none;\n",
              "      border-radius: 50%;\n",
              "      cursor: pointer;\n",
              "      display: none;\n",
              "      fill: #1967D2;\n",
              "      height: 32px;\n",
              "      padding: 0 0 0 0;\n",
              "      width: 32px;\n",
              "    }\n",
              "\n",
              "    .colab-df-convert:hover {\n",
              "      background-color: #E2EBFA;\n",
              "      box-shadow: 0px 1px 2px rgba(60, 64, 67, 0.3), 0px 1px 3px 1px rgba(60, 64, 67, 0.15);\n",
              "      fill: #174EA6;\n",
              "    }\n",
              "\n",
              "    .colab-df-buttons div {\n",
              "      margin-bottom: 4px;\n",
              "    }\n",
              "\n",
              "    [theme=dark] .colab-df-convert {\n",
              "      background-color: #3B4455;\n",
              "      fill: #D2E3FC;\n",
              "    }\n",
              "\n",
              "    [theme=dark] .colab-df-convert:hover {\n",
              "      background-color: #434B5C;\n",
              "      box-shadow: 0px 1px 3px 1px rgba(0, 0, 0, 0.15);\n",
              "      filter: drop-shadow(0px 1px 2px rgba(0, 0, 0, 0.3));\n",
              "      fill: #FFFFFF;\n",
              "    }\n",
              "  </style>\n",
              "\n",
              "    <script>\n",
              "      const buttonEl =\n",
              "        document.querySelector('#df-72ba6bdb-97e3-418b-8928-582965a35480 button.colab-df-convert');\n",
              "      buttonEl.style.display =\n",
              "        google.colab.kernel.accessAllowed ? 'block' : 'none';\n",
              "\n",
              "      async function convertToInteractive(key) {\n",
              "        const element = document.querySelector('#df-72ba6bdb-97e3-418b-8928-582965a35480');\n",
              "        const dataTable =\n",
              "          await google.colab.kernel.invokeFunction('convertToInteractive',\n",
              "                                                    [key], {});\n",
              "        if (!dataTable) return;\n",
              "\n",
              "        const docLinkHtml = 'Like what you see? Visit the ' +\n",
              "          '<a target=\"_blank\" href=https://colab.research.google.com/notebooks/data_table.ipynb>data table notebook</a>'\n",
              "          + ' to learn more about interactive tables.';\n",
              "        element.innerHTML = '';\n",
              "        dataTable['output_type'] = 'display_data';\n",
              "        await google.colab.output.renderOutput(dataTable, element);\n",
              "        const docLink = document.createElement('div');\n",
              "        docLink.innerHTML = docLinkHtml;\n",
              "        element.appendChild(docLink);\n",
              "      }\n",
              "    </script>\n",
              "  </div>\n",
              "\n",
              "\n",
              "<div id=\"df-dcded9b7-eced-4534-8197-c0fca437a0a1\">\n",
              "  <button class=\"colab-df-quickchart\" onclick=\"quickchart('df-dcded9b7-eced-4534-8197-c0fca437a0a1')\"\n",
              "            title=\"Suggest charts\"\n",
              "            style=\"display:none;\">\n",
              "\n",
              "<svg xmlns=\"http://www.w3.org/2000/svg\" height=\"24px\"viewBox=\"0 0 24 24\"\n",
              "     width=\"24px\">\n",
              "    <g>\n",
              "        <path d=\"M19 3H5c-1.1 0-2 .9-2 2v14c0 1.1.9 2 2 2h14c1.1 0 2-.9 2-2V5c0-1.1-.9-2-2-2zM9 17H7v-7h2v7zm4 0h-2V7h2v10zm4 0h-2v-4h2v4z\"/>\n",
              "    </g>\n",
              "</svg>\n",
              "  </button>\n",
              "\n",
              "<style>\n",
              "  .colab-df-quickchart {\n",
              "      --bg-color: #E8F0FE;\n",
              "      --fill-color: #1967D2;\n",
              "      --hover-bg-color: #E2EBFA;\n",
              "      --hover-fill-color: #174EA6;\n",
              "      --disabled-fill-color: #AAA;\n",
              "      --disabled-bg-color: #DDD;\n",
              "  }\n",
              "\n",
              "  [theme=dark] .colab-df-quickchart {\n",
              "      --bg-color: #3B4455;\n",
              "      --fill-color: #D2E3FC;\n",
              "      --hover-bg-color: #434B5C;\n",
              "      --hover-fill-color: #FFFFFF;\n",
              "      --disabled-bg-color: #3B4455;\n",
              "      --disabled-fill-color: #666;\n",
              "  }\n",
              "\n",
              "  .colab-df-quickchart {\n",
              "    background-color: var(--bg-color);\n",
              "    border: none;\n",
              "    border-radius: 50%;\n",
              "    cursor: pointer;\n",
              "    display: none;\n",
              "    fill: var(--fill-color);\n",
              "    height: 32px;\n",
              "    padding: 0;\n",
              "    width: 32px;\n",
              "  }\n",
              "\n",
              "  .colab-df-quickchart:hover {\n",
              "    background-color: var(--hover-bg-color);\n",
              "    box-shadow: 0 1px 2px rgba(60, 64, 67, 0.3), 0 1px 3px 1px rgba(60, 64, 67, 0.15);\n",
              "    fill: var(--button-hover-fill-color);\n",
              "  }\n",
              "\n",
              "  .colab-df-quickchart-complete:disabled,\n",
              "  .colab-df-quickchart-complete:disabled:hover {\n",
              "    background-color: var(--disabled-bg-color);\n",
              "    fill: var(--disabled-fill-color);\n",
              "    box-shadow: none;\n",
              "  }\n",
              "\n",
              "  .colab-df-spinner {\n",
              "    border: 2px solid var(--fill-color);\n",
              "    border-color: transparent;\n",
              "    border-bottom-color: var(--fill-color);\n",
              "    animation:\n",
              "      spin 1s steps(1) infinite;\n",
              "  }\n",
              "\n",
              "  @keyframes spin {\n",
              "    0% {\n",
              "      border-color: transparent;\n",
              "      border-bottom-color: var(--fill-color);\n",
              "      border-left-color: var(--fill-color);\n",
              "    }\n",
              "    20% {\n",
              "      border-color: transparent;\n",
              "      border-left-color: var(--fill-color);\n",
              "      border-top-color: var(--fill-color);\n",
              "    }\n",
              "    30% {\n",
              "      border-color: transparent;\n",
              "      border-left-color: var(--fill-color);\n",
              "      border-top-color: var(--fill-color);\n",
              "      border-right-color: var(--fill-color);\n",
              "    }\n",
              "    40% {\n",
              "      border-color: transparent;\n",
              "      border-right-color: var(--fill-color);\n",
              "      border-top-color: var(--fill-color);\n",
              "    }\n",
              "    60% {\n",
              "      border-color: transparent;\n",
              "      border-right-color: var(--fill-color);\n",
              "    }\n",
              "    80% {\n",
              "      border-color: transparent;\n",
              "      border-right-color: var(--fill-color);\n",
              "      border-bottom-color: var(--fill-color);\n",
              "    }\n",
              "    90% {\n",
              "      border-color: transparent;\n",
              "      border-bottom-color: var(--fill-color);\n",
              "    }\n",
              "  }\n",
              "</style>\n",
              "\n",
              "  <script>\n",
              "    async function quickchart(key) {\n",
              "      const quickchartButtonEl =\n",
              "        document.querySelector('#' + key + ' button');\n",
              "      quickchartButtonEl.disabled = true;  // To prevent multiple clicks.\n",
              "      quickchartButtonEl.classList.add('colab-df-spinner');\n",
              "      try {\n",
              "        const charts = await google.colab.kernel.invokeFunction(\n",
              "            'suggestCharts', [key], {});\n",
              "      } catch (error) {\n",
              "        console.error('Error during call to suggestCharts:', error);\n",
              "      }\n",
              "      quickchartButtonEl.classList.remove('colab-df-spinner');\n",
              "      quickchartButtonEl.classList.add('colab-df-quickchart-complete');\n",
              "    }\n",
              "    (() => {\n",
              "      let quickchartButtonEl =\n",
              "        document.querySelector('#df-dcded9b7-eced-4534-8197-c0fca437a0a1 button');\n",
              "      quickchartButtonEl.style.display =\n",
              "        google.colab.kernel.accessAllowed ? 'block' : 'none';\n",
              "    })();\n",
              "  </script>\n",
              "</div>\n",
              "\n",
              "    </div>\n",
              "  </div>\n"
            ],
            "application/vnd.google.colaboratory.intrinsic+json": {
              "type": "dataframe",
              "variable_name": "df",
              "summary": "{\n  \"name\": \"df\",\n  \"rows\": 252,\n  \"fields\": [\n    {\n      \"column\": \"Unnamed: 0\",\n      \"properties\": {\n        \"dtype\": \"number\",\n        \"std\": 72,\n        \"min\": 0,\n        \"max\": 251,\n        \"num_unique_values\": 252,\n        \"samples\": [\n          165,\n          6,\n          111\n        ],\n        \"semantic_type\": \"\",\n        \"description\": \"\"\n      }\n    },\n    {\n      \"column\": \"LGA\",\n      \"properties\": {\n        \"dtype\": \"category\",\n        \"num_unique_values\": 18,\n        \"samples\": [\n          \"Aninri\",\n          \"Awgu\",\n          \"Igbo Eze North\"\n        ],\n        \"semantic_type\": \"\",\n        \"description\": \"\"\n      }\n    },\n    {\n      \"column\": \"Polling Unit Name\",\n      \"properties\": {\n        \"dtype\": \"string\",\n        \"num_unique_values\": 252,\n        \"samples\": [\n          \"Eke Nvu Ameke Village Square; Community School Amede; Community Central School, Amede; Boys' Secondary School I; Uwani Agbede Village; Ameke Centrtal Village Square; Ndiuzu Village Hall Ihunekwagu; Community Secondary School II; Central School Deji Ndiuno, Akpugo I; Community School Ihunekwagu I; Boys' Secondary School II; Community School, Ihunekwagu II; Community Secondary School I; Central School Deji Ndiuno, Akpugo II; Ogbashi Village Square Ama-Ugo Agu Deji Uno I; Ogbashi Village Square Ama-Ugo Agu Deji Uno II\",\n          \"Eziecho Comm. School; Enugunato Primary School; Enugunato Village Hall; Obeagu Primary School; Obeagu Town Hall; Umulugwayi Primary School; Central School Uhueze I; Central School Uhueze II; Umueze Town Hall; Umulevo Town Hall I; Umulevo Town Hall II; Amagu/Umulevo Town Hall; Umuagam Village Hall; Central School Emudo Nenwe; Comm. School Emudo Nenwe; Umuakum/Umuovutu Town Hall; Umuekuma Town Hall; Ekpulato Town Hall; Ugwuogidi Town Hall; Umuosi Comm. Schl.; Izizike Town Hall\",\n          \"Ogbodu Hall; C. P. S. Amoba Inyi; U. P. S. Amaube; U. P. S. Amachi; A. P. S. Akpa Inyi I; A. P. S. Akpa Inyi II; C. P. S. Amaoba Inyi; C. P. S. Amaube Inyi II\"\n        ],\n        \"semantic_type\": \"\",\n        \"description\": \"\"\n      }\n    }\n  ]\n}"
            }
          },
          "metadata": {},
          "execution_count": 22
        }
      ]
    },
    {
      "cell_type": "code",
      "source": [
        "# saving to csv\n",
        "df.to_csv('/content/data.csv')"
      ],
      "metadata": {
        "id": "7cNk6cIVXcuD"
      },
      "execution_count": null,
      "outputs": []
    },
    {
      "cell_type": "code",
      "source": [
        "from google.colab import drive\n",
        "\n",
        "# Mount Google Drive to access its contents\n",
        "drive.mount('/content/drive')\n"
      ],
      "metadata": {
        "colab": {
          "base_uri": "https://localhost:8080/"
        },
        "id": "PqdO-3GnXhgx",
        "outputId": "49f7c3fb-3327-4c1c-ab45-bca63ac8e21e"
      },
      "execution_count": null,
      "outputs": [
        {
          "output_type": "stream",
          "name": "stdout",
          "text": [
            "Mounted at /content/drive\n"
          ]
        }
      ]
    },
    {
      "cell_type": "code",
      "source": [
        "# Save the DataFrame 'df' to a CSV file in your Google Drive\n",
        "df.to_csv('/content/drive/My Drive/data.csv', index=False)  # Adjust the path as needed\n"
      ],
      "metadata": {
        "id": "fHfcnG45Xj94"
      },
      "execution_count": null,
      "outputs": []
    }
  ]
}