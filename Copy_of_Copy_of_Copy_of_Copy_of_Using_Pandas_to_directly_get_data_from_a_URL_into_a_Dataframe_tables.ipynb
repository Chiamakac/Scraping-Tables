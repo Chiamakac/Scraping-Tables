{
  "nbformat": 4,
  "nbformat_minor": 0,
  "metadata": {
    "colab": {
      "name": "Copy of Copy of Copy of Copy of Using Pandas to directly get data from a URL into a Dataframe tables.ipynb",
      "private_outputs": true,
      "provenance": [],
      "authorship_tag": "ABX9TyNycd98h6xXBKxP5BStPUSe",
      "include_colab_link": true
    },
    "kernelspec": {
      "name": "python3",
      "display_name": "Python 3"
    },
    "language_info": {
      "name": "python"
    },
    "accelerator": "GPU"
  },
  "cells": [
    {
      "cell_type": "markdown",
      "metadata": {
        "id": "view-in-github",
        "colab_type": "text"
      },
      "source": [
        "<a href=\"https://colab.research.google.com/github/chiamaka249/Scraping-Tables/blob/main/Copy_of_Copy_of_Copy_of_Copy_of_Using_Pandas_to_directly_get_data_from_a_URL_into_a_Dataframe_tables.ipynb\" target=\"_parent\"><img src=\"https://colab.research.google.com/assets/colab-badge.svg\" alt=\"Open In Colab\"/></a>"
      ]
    },
    {
      "cell_type": "code",
      "metadata": {
        "id": "kdJ_xAyFNi8i"
      },
      "source": [
        "import pandas as pd"
      ],
      "execution_count": null,
      "outputs": []
    },
    {
      "cell_type": "code",
      "metadata": {
        "id": "0efwe-KpNrvM"
      },
      "source": [
        "#Pandas has a function to read html. We give it a URL and it will go to the page and scrape it directly\n",
        "#this is used to find table data(<table>,<tr>,<td>, the html tags) in that URL and returns a list\n",
        "\n",
        "df = pd.read_html('URL')"
      ],
      "execution_count": null,
      "outputs": []
    },
    {
      "cell_type": "code",
      "metadata": {
        "id": "jPNEualvfJVW"
      },
      "source": [
        "#to skip rows\n",
        "df = pd.read_html('URL',skiprows=2)\n",
        "print(df[1])"
      ],
      "execution_count": null,
      "outputs": []
    },
    {
      "cell_type": "code",
      "metadata": {
        "id": "K9izTpSKWBRw"
      },
      "source": [
        "#returns a list of tables found on the page\n",
        "print(df) "
      ],
      "execution_count": null,
      "outputs": []
    },
    {
      "cell_type": "code",
      "metadata": {
        "id": "No3gPvo9b6Yk"
      },
      "source": [
        "#we index when we have more than one table on a page to choose the table we want. [0] is for the first table \n",
        "print(df[0])"
      ],
      "execution_count": null,
      "outputs": []
    },
    {
      "cell_type": "code",
      "metadata": {
        "id": "7EbgZdyucgtV"
      },
      "source": [
        "#to display the table headings\n",
        "print(df[1].head)"
      ],
      "execution_count": null,
      "outputs": []
    },
    {
      "cell_type": "code",
      "metadata": {
        "id": "RmgI_TAJOJFE"
      },
      "source": [
        "#exports to csv. the tables can be exported in separate files hence name & names\n",
        "df[1].to_csv('name.csv')\n",
        "df[2].to_csv('names.csv')\n"
      ],
      "execution_count": null,
      "outputs": []
    },
    {
      "cell_type": "code",
      "metadata": {
        "id": "j4HQsFCgcfra"
      },
      "source": [
        ""
      ],
      "execution_count": null,
      "outputs": []
    }
  ]
}