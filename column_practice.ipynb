{
  "nbformat": 4,
  "nbformat_minor": 0,
  "metadata": {
    "colab": {
      "name": "column practice",
      "provenance": [],
      "mount_file_id": "1b9fXyB2DYGWJXG-UZrpGkiP5dgT4PCIo",
      "authorship_tag": "ABX9TyN+ZLztOGWepPBHC5OzXDSB",
      "include_colab_link": true
    },
    "kernelspec": {
      "name": "python3",
      "display_name": "Python 3"
    },
    "language_info": {
      "name": "python"
    }
  },
  "cells": [
    {
      "cell_type": "markdown",
      "metadata": {
        "id": "view-in-github",
        "colab_type": "text"
      },
      "source": [
        "<a href=\"https://colab.research.google.com/github/chiamaka249/Scraping-Tables/blob/main/column_practice.ipynb\" target=\"_parent\"><img src=\"https://colab.research.google.com/assets/colab-badge.svg\" alt=\"Open In Colab\"/></a>"
      ]
    },
    {
      "cell_type": "code",
      "metadata": {
        "id": "PoREZFeymkPu"
      },
      "source": [
        "import pandas as pd\n"
      ],
      "execution_count": 2,
      "outputs": []
    },
    {
      "cell_type": "code",
      "metadata": {
        "id": "m7A_gE7Jmwmk"
      },
      "source": [
        "df = pd.read_csv('/content/drive/MyDrive/Colab Notebooks/WIKI Pages Scrape/ABIAs.csv')"
      ],
      "execution_count": 3,
      "outputs": []
    },
    {
      "cell_type": "code",
      "metadata": {
        "colab": {
          "base_uri": "https://localhost:8080/"
        },
        "id": "Uq3IsChAnwie",
        "outputId": "c4ef1ed0-5ef1-4e1c-b9bc-29b9aa54fbac"
      },
      "source": [
        "df.info()\n"
      ],
      "execution_count": 5,
      "outputs": [
        {
          "output_type": "stream",
          "text": [
            "<class 'pandas.core.frame.DataFrame'>\n",
            "RangeIndex: 126 entries, 0 to 125\n",
            "Data columns (total 9 columns):\n",
            " #   Column           Non-Null Count  Dtype  \n",
            "---  ------           --------------  -----  \n",
            " 0   Unnamed: 0       126 non-null    int64  \n",
            " 1   LGA              126 non-null    object \n",
            " 2   District / Area  126 non-null    object \n",
            " 3   Postal code      126 non-null    int64  \n",
            " 4   Villages         126 non-null    object \n",
            " 5   Unnamed: 4       1 non-null      object \n",
            " 6   Unnamed: 5       1 non-null      object \n",
            " 7   Unnamed: 6       1 non-null      float64\n",
            " 8   Unnamed: 7       1 non-null      object \n",
            "dtypes: float64(1), int64(2), object(6)\n",
            "memory usage: 9.0+ KB\n"
          ],
          "name": "stdout"
        }
      ]
    },
    {
      "cell_type": "code",
      "metadata": {
        "id": "6GZRBw8Rn-pg"
      },
      "source": [
        "df.drop(['Unnamed: 0','Postal code'], axis=1, inplace=True)"
      ],
      "execution_count": 6,
      "outputs": []
    },
    {
      "cell_type": "code",
      "metadata": {
        "colab": {
          "base_uri": "https://localhost:8080/"
        },
        "id": "qFPpJl3Lofux",
        "outputId": "0e30125a-616a-4381-bfc6-2530787eaa82"
      },
      "source": [
        "df.info()"
      ],
      "execution_count": 7,
      "outputs": [
        {
          "output_type": "stream",
          "text": [
            "<class 'pandas.core.frame.DataFrame'>\n",
            "RangeIndex: 126 entries, 0 to 125\n",
            "Data columns (total 7 columns):\n",
            " #   Column           Non-Null Count  Dtype  \n",
            "---  ------           --------------  -----  \n",
            " 0   LGA              126 non-null    object \n",
            " 1   District / Area  126 non-null    object \n",
            " 2   Villages         126 non-null    object \n",
            " 3   Unnamed: 4       1 non-null      object \n",
            " 4   Unnamed: 5       1 non-null      object \n",
            " 5   Unnamed: 6       1 non-null      float64\n",
            " 6   Unnamed: 7       1 non-null      object \n",
            "dtypes: float64(1), object(6)\n",
            "memory usage: 7.0+ KB\n"
          ],
          "name": "stdout"
        }
      ]
    }
  ]
}