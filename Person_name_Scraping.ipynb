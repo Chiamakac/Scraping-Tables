{
  "nbformat": 4,
  "nbformat_minor": 0,
  "metadata": {
    "colab": {
      "name": "Person name Scraping.ipynb",
      "provenance": [],
      "authorship_tag": "ABX9TyPnCjq7p2C55W/74Fqkv9vh",
      "include_colab_link": true
    },
    "kernelspec": {
      "name": "python3",
      "display_name": "Python 3"
    },
    "language_info": {
      "name": "python"
    }
  },
  "cells": [
    {
      "cell_type": "markdown",
      "metadata": {
        "id": "view-in-github",
        "colab_type": "text"
      },
      "source": [
        "<a href=\"https://colab.research.google.com/github/chiamaka249/Scraping-Tables/blob/main/Person_name_Scraping.ipynb\" target=\"_parent\"><img src=\"https://colab.research.google.com/assets/colab-badge.svg\" alt=\"Open In Colab\"/></a>"
      ]
    },
    {
      "cell_type": "code",
      "metadata": {
        "id": "BhzmLZ5nQi35"
      },
      "source": [
        "import pandas as pd"
      ],
      "execution_count": 1,
      "outputs": []
    },
    {
      "cell_type": "code",
      "metadata": {
        "id": "Rjqh3SAaQtUk"
      },
      "source": [
        "df = pd.read_html('https://okwuid.com/2018/04/29/igbo-surnames-and-meanings/')"
      ],
      "execution_count": 40,
      "outputs": []
    },
    {
      "cell_type": "code",
      "metadata": {
        "colab": {
          "base_uri": "https://localhost:8080/"
        },
        "id": "-5s4QReITJPE",
        "outputId": "647e956e-8bab-4c8e-c0ff-ee0a33630100"
      },
      "source": [
        "print(df) "
      ],
      "execution_count": 41,
      "outputs": [
        {
          "output_type": "stream",
          "text": [
            "[            0          1        2\n",
            "0  NAME (AHA)  BREAKDOWN  MEANING,              0  ...                                                  2\n",
            "0        Abara  ...                                             Spirit\n",
            "1       Achebe  ...                                                NaN\n",
            "2     Acholonu  ...                                                NaN\n",
            "3      Adichie  ...                                                NaN\n",
            "4    Agughalam  ...                    Do not side-line/marginalise me\n",
            "5        Aguta  ...                             Countless/To have many\n",
            "6     Agwuegbo  ...                               The hardship is over\n",
            "7          Aku  ...                                             Wealth\n",
            "8      Alaneme  ...  The land is active – may have other interpreta...\n",
            "9          Ama  ...                                           Compound\n",
            "10       Amadi  ...                               The compound remains\n",
            "11      Amaike  ...                             The compound is strong\n",
            "12    Aniefuna  ...                                My land is not lost\n",
            "13    Anokwuru  ...                                          Four talk\n",
            "14     Anosike  ...                                     Four is strong\n",
            "15      Anuoru  ...                                      To stay well?\n",
            "16     Asiegbu  ...                                                NaN\n",
            "17       Asika  ...                         Asi (lie) = to lie a lot??\n",
            "18     Asinobi  ...                                     From the heart\n",
            "19      Atuche  ...           To think / to plan something in the mind\n",
            "20     Atuegbu  ...                       Speculation will not kill me\n",
            "21  Atusiemobi  ...                      Take heart (my condolences) ?\n",
            "22     Awachie  ...                           He has come to replace ?\n",
            "23       Awujo  ...                                      To be quiet ?\n",
            "24       Azuka  ...  “The back is above.” m. Azu ordinarily means “...\n",
            "\n",
            "[25 rows x 3 columns],                       0  ...                                         2\n",
            "0                Azunna  ...                           My fathers back\n",
            "1              Chidozie  ...                 My spirit/God looks after\n",
            "2           Chuke/Chike  ...                               God’s power\n",
            "3          Chukwumerije  ...                God makes (something) walk\n",
            "4           Chukwunyelu  ...                                 God gives\n",
            "..                  ...  ...                                       ...\n",
            "164            Umunakwe  ...               My people/my siblings agree\n",
            "165              Umunna  ...  Children of the father (Siblings)/Family\n",
            "166              Unigwe  ...      Heaven (House of the sky) [Anambra?]\n",
            "167  Uzoegbu/Uxoebgulam  ...                 The road till not kill me\n",
            "168           Wabaranta  ...                       Child of the spirit\n",
            "\n",
            "[169 rows x 3 columns]]\n"
          ],
          "name": "stdout"
        }
      ]
    },
    {
      "cell_type": "code",
      "metadata": {
        "id": "8d8CwfQ0TMlp"
      },
      "source": [
        "df[0].to_csv('Surnames.csv')"
      ],
      "execution_count": 42,
      "outputs": []
    },
    {
      "cell_type": "code",
      "metadata": {
        "id": "URvBSUBDbL0h"
      },
      "source": [
        "df = pd.read_csv('/content/Surnames.csv')"
      ],
      "execution_count": 43,
      "outputs": []
    },
    {
      "cell_type": "code",
      "metadata": {
        "colab": {
          "base_uri": "https://localhost:8080/"
        },
        "id": "EqbZplmjZ8Pz",
        "outputId": "1a860da8-55cc-42b3-8e89-e90b0167aa1e"
      },
      "source": [
        "df.info()"
      ],
      "execution_count": 46,
      "outputs": [
        {
          "output_type": "stream",
          "text": [
            "<class 'pandas.core.frame.DataFrame'>\n",
            "RangeIndex: 1 entries, 0 to 0\n",
            "Data columns (total 4 columns):\n",
            " #   Column      Non-Null Count  Dtype \n",
            "---  ------      --------------  ----- \n",
            " 0   Unnamed: 0  1 non-null      int64 \n",
            " 1   0           1 non-null      object\n",
            " 2   1           1 non-null      object\n",
            " 3   2           1 non-null      object\n",
            "dtypes: int64(1), object(3)\n",
            "memory usage: 160.0+ bytes\n"
          ],
          "name": "stdout"
        }
      ]
    },
    {
      "cell_type": "code",
      "metadata": {
        "id": "amlSfqT6bbg7"
      },
      "source": [
        "df.drop(['Unnamed: 0', '1', '2'], axis=1, inplace=True)"
      ],
      "execution_count": 47,
      "outputs": []
    },
    {
      "cell_type": "code",
      "metadata": {
        "colab": {
          "base_uri": "https://localhost:8080/",
          "height": 78
        },
        "id": "34uipYG2cIqU",
        "outputId": "b019f42f-ba36-421e-aefb-7fad0e2eb974"
      },
      "source": [
        "df.head()"
      ],
      "execution_count": 48,
      "outputs": [
        {
          "output_type": "execute_result",
          "data": {
            "text/html": [
              "<div>\n",
              "<style scoped>\n",
              "    .dataframe tbody tr th:only-of-type {\n",
              "        vertical-align: middle;\n",
              "    }\n",
              "\n",
              "    .dataframe tbody tr th {\n",
              "        vertical-align: top;\n",
              "    }\n",
              "\n",
              "    .dataframe thead th {\n",
              "        text-align: right;\n",
              "    }\n",
              "</style>\n",
              "<table border=\"1\" class=\"dataframe\">\n",
              "  <thead>\n",
              "    <tr style=\"text-align: right;\">\n",
              "      <th></th>\n",
              "      <th>0</th>\n",
              "    </tr>\n",
              "  </thead>\n",
              "  <tbody>\n",
              "    <tr>\n",
              "      <th>0</th>\n",
              "      <td>NAME (AHA)</td>\n",
              "    </tr>\n",
              "  </tbody>\n",
              "</table>\n",
              "</div>"
            ],
            "text/plain": [
              "            0\n",
              "0  NAME (AHA)"
            ]
          },
          "metadata": {
            "tags": []
          },
          "execution_count": 48
        }
      ]
    },
    {
      "cell_type": "code",
      "metadata": {
        "id": "D4Euv8TtcQLS"
      },
      "source": [
        "df.to_csv('/content/Surname2.csv')"
      ],
      "execution_count": 49,
      "outputs": []
    }
  ]
}