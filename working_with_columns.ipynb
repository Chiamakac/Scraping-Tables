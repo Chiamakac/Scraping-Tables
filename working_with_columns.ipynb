{
  "nbformat": 4,
  "nbformat_minor": 0,
  "metadata": {
    "colab": {
      "name": "working with columns.ipynb",
      "private_outputs": true,
      "provenance": [],
      "collapsed_sections": [],
      "authorship_tag": "ABX9TyOTp53a4jLhy/z1JKNim3UN",
      "include_colab_link": true
    },
    "kernelspec": {
      "name": "python3",
      "display_name": "Python 3"
    },
    "language_info": {
      "name": "python"
    },
    "accelerator": "GPU"
  },
  "cells": [
    {
      "cell_type": "markdown",
      "metadata": {
        "id": "view-in-github",
        "colab_type": "text"
      },
      "source": [
        "<a href=\"https://colab.research.google.com/github/chiamaka249/Scraping-Tables/blob/main/working_with_columns.ipynb\" target=\"_parent\"><img src=\"https://colab.research.google.com/assets/colab-badge.svg\" alt=\"Open In Colab\"/></a>"
      ]
    },
    {
      "cell_type": "code",
      "metadata": {
        "id": "kdJ_xAyFNi8i"
      },
      "source": [
        "import pandas as pd"
      ],
      "execution_count": null,
      "outputs": []
    },
    {
      "cell_type": "code",
      "metadata": {
        "id": "0efwe-KpNrvM"
      },
      "source": [
        "#Pandas has a function to read html. We give it a URL and it will go to the page and scrape it directly\n",
        "#this is used to find table data(<table>,<tr>,<td>, the html tags) in that URL and returns a list\n",
        "\n",
        "df = pd.read_html('https://en.wikipedia.org/wiki/List_of_villages_in_Abia_State')"
      ],
      "execution_count": null,
      "outputs": []
    },
    {
      "cell_type": "code",
      "metadata": {
        "id": "jPNEualvfJVW"
      },
      "source": [
        "#to skip rows\n",
        "df = pd.read_html('https://en.wikipedia.org/wiki/List_of_villages_in_Abia_State',skiprows=2)\n",
        "print(df[1])"
      ],
      "execution_count": null,
      "outputs": []
    },
    {
      "cell_type": "code",
      "metadata": {
        "id": "K9izTpSKWBRw"
      },
      "source": [
        "#returns a list of tables found on the page\n",
        "print(df) "
      ],
      "execution_count": null,
      "outputs": []
    },
    {
      "cell_type": "code",
      "metadata": {
        "id": "No3gPvo9b6Yk"
      },
      "source": [
        "#we index when we have more than one table on a page to choose the table we want. [0] is for the first table \n",
        "print(df[0])"
      ],
      "execution_count": null,
      "outputs": []
    },
    {
      "cell_type": "code",
      "metadata": {
        "id": "7EbgZdyucgtV"
      },
      "source": [
        "print(df[1])"
      ],
      "execution_count": null,
      "outputs": []
    },
    {
      "cell_type": "code",
      "metadata": {
        "id": "RmgI_TAJOJFE"
      },
      "source": [
        "#exports to csv\n",
        "df[1].to_csv('ABIA.csv')\n",
        "df[2].to_csv('ABIAs.csv')\n"
      ],
      "execution_count": null,
      "outputs": []
    },
    {
      "cell_type": "code",
      "metadata": {
        "id": "j4HQsFCgcfra"
      },
      "source": [
        "#reads the csv file we want to select columns from\n",
        "df = pd.read_csv('/content/ABIA.csv')\n"
      ],
      "execution_count": null,
      "outputs": []
    },
    {
      "cell_type": "code",
      "metadata": {
        "id": "ndniMPulaJRz"
      },
      "source": [
        "#gives us information about the table\n",
        "df.info()"
      ],
      "execution_count": null,
      "outputs": []
    },
    {
      "cell_type": "code",
      "metadata": {
        "id": "Kj8-NejlQ67T"
      },
      "source": [
        "#to display heading of each column\n",
        "df.head()"
      ],
      "execution_count": null,
      "outputs": []
    },
    {
      "cell_type": "code",
      "metadata": {
        "id": "qCvelcd7dHYJ"
      },
      "source": [
        "# to read a particular column. (axis=1 is the column while axis=0 is the row)\n",
        "df.drop(['Postal code'], axis=1, inplace=True)"
      ],
      "execution_count": null,
      "outputs": []
    },
    {
      "cell_type": "code",
      "metadata": {
        "id": "vZZsKbUjfSvm"
      },
      "source": [
        "df.head()"
      ],
      "execution_count": null,
      "outputs": []
    },
    {
      "cell_type": "code",
      "metadata": {
        "id": "csWy2WuI3oRK"
      },
      "source": [
        "# saving to csv\n",
        "df.to_csv('/content/sample_data/data.csv')"
      ],
      "execution_count": null,
      "outputs": []
    }
  ]
}